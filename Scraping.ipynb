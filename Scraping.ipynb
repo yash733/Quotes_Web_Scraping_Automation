{
 "cells": [
  {
   "cell_type": "code",
   "execution_count": 3,
   "id": "fb84adca-dc6a-4852-8e5c-703b7bd293bf",
   "metadata": {},
   "outputs": [
    {
     "name": "stdout",
     "output_type": "stream",
     "text": [
      "Requirement already satisfied: beautifulsoup4 in d:\\eda\\.venv\\lib\\site-packages (4.12.3)\n",
      "Requirement already satisfied: soupsieve>1.2 in d:\\eda\\.venv\\lib\\site-packages (from beautifulsoup4) (2.5)\n",
      "Note: you may need to restart the kernel to use updated packages.\n"
     ]
    }
   ],
   "source": [
    "pip install beautifulsoup4"
   ]
  },
  {
   "cell_type": "code",
   "execution_count": 1,
   "id": "ed3b04cf-4e39-4a27-9761-c20324a8722c",
   "metadata": {},
   "outputs": [],
   "source": [
    "import requests\n",
    "from bs4 import BeautifulSoup as bs"
   ]
  },
  {
   "cell_type": "markdown",
   "id": "867f9081-dd6f-44d5-b5f8-bda7db8ba0d1",
   "metadata": {},
   "source": [
    "##### Featch the site to scratch data from"
   ]
  },
  {
   "cell_type": "code",
   "execution_count": 2,
   "id": "6beef385-a300-4af4-849b-fdcae32632cc",
   "metadata": {},
   "outputs": [],
   "source": [
    "res = requests.get('https://quotes.toscrape.com/')"
   ]
  },
  {
   "cell_type": "markdown",
   "id": "33854ecf-9817-437f-8de0-392a97f2f4a1",
   "metadata": {},
   "source": [
    "##### After featching the site we will parse through the site, inorder to collect the data"
   ]
  },
  {
   "cell_type": "code",
   "execution_count": 3,
   "id": "a74d84f8-07ad-468e-8b74-723171d5747a",
   "metadata": {},
   "outputs": [],
   "source": [
    "soup = bs(res.text, 'html.parser')"
   ]
  },
  {
   "cell_type": "code",
   "execution_count": 4,
   "id": "72b7238a-7a0b-4d57-a23b-2d9218debd6c",
   "metadata": {},
   "outputs": [],
   "source": [
    "data = soup.find_all('div', class_ = 'quote')"
   ]
  },
  {
   "cell_type": "code",
   "execution_count": 5,
   "id": "5d1b141b-a348-4d99-9b26-17c73cb2ddcf",
   "metadata": {},
   "outputs": [
    {
     "data": {
      "text/plain": [
       "10"
      ]
     },
     "execution_count": 5,
     "metadata": {},
     "output_type": "execute_result"
    }
   ],
   "source": [
    "len(data)"
   ]
  },
  {
   "cell_type": "code",
   "execution_count": 6,
   "id": "92639539-1117-4da9-a842-70b3e1a17889",
   "metadata": {},
   "outputs": [
    {
     "name": "stdout",
     "output_type": "stream",
     "text": [
      "[<div class=\"quote\" itemscope=\"\" itemtype=\"http://schema.org/CreativeWork\">\n",
      "<span class=\"text\" itemprop=\"text\">“The world as we have created it is a process of our thinking. It cannot be changed without changing our thinking.”</span>\n",
      "<span>by <small class=\"author\" itemprop=\"author\">Albert Einstein</small>\n",
      "<a href=\"/author/Albert-Einstein\">(about)</a>\n",
      "</span>\n",
      "<div class=\"tags\">\n",
      "            Tags:\n",
      "            <meta class=\"keywords\" content=\"change,deep-thoughts,thinking,world\" itemprop=\"keywords\"/>\n",
      "<a class=\"tag\" href=\"/tag/change/page/1/\">change</a>\n",
      "<a class=\"tag\" href=\"/tag/deep-thoughts/page/1/\">deep-thoughts</a>\n",
      "<a class=\"tag\" href=\"/tag/thinking/page/1/\">thinking</a>\n",
      "<a class=\"tag\" href=\"/tag/world/page/1/\">world</a>\n",
      "</div>\n",
      "</div>, <div class=\"quote\" itemscope=\"\" itemtype=\"http://schema.org/CreativeWork\">\n",
      "<span class=\"text\" itemprop=\"text\">“It is our choices, Harry, that show what we truly are, far more than our abilities.”</span>\n",
      "<span>by <small class=\"author\" itemprop=\"author\">J.K. Rowling</small>\n",
      "<a href=\"/author/J-K-Rowling\">(about)</a>\n",
      "</span>\n",
      "<div class=\"tags\">\n",
      "            Tags:\n",
      "            <meta class=\"keywords\" content=\"abilities,choices\" itemprop=\"keywords\"/>\n",
      "<a class=\"tag\" href=\"/tag/abilities/page/1/\">abilities</a>\n",
      "<a class=\"tag\" href=\"/tag/choices/page/1/\">choices</a>\n",
      "</div>\n",
      "</div>, <div class=\"quote\" itemscope=\"\" itemtype=\"http://schema.org/CreativeWork\">\n",
      "<span class=\"text\" itemprop=\"text\">“There are only two ways to live your life. One is as though nothing is a miracle. The other is as though everything is a miracle.”</span>\n",
      "<span>by <small class=\"author\" itemprop=\"author\">Albert Einstein</small>\n",
      "<a href=\"/author/Albert-Einstein\">(about)</a>\n",
      "</span>\n",
      "<div class=\"tags\">\n",
      "            Tags:\n",
      "            <meta class=\"keywords\" content=\"inspirational,life,live,miracle,miracles\" itemprop=\"keywords\"/>\n",
      "<a class=\"tag\" href=\"/tag/inspirational/page/1/\">inspirational</a>\n",
      "<a class=\"tag\" href=\"/tag/life/page/1/\">life</a>\n",
      "<a class=\"tag\" href=\"/tag/live/page/1/\">live</a>\n",
      "<a class=\"tag\" href=\"/tag/miracle/page/1/\">miracle</a>\n",
      "<a class=\"tag\" href=\"/tag/miracles/page/1/\">miracles</a>\n",
      "</div>\n",
      "</div>, <div class=\"quote\" itemscope=\"\" itemtype=\"http://schema.org/CreativeWork\">\n",
      "<span class=\"text\" itemprop=\"text\">“The person, be it gentleman or lady, who has not pleasure in a good novel, must be intolerably stupid.”</span>\n",
      "<span>by <small class=\"author\" itemprop=\"author\">Jane Austen</small>\n",
      "<a href=\"/author/Jane-Austen\">(about)</a>\n",
      "</span>\n",
      "<div class=\"tags\">\n",
      "            Tags:\n",
      "            <meta class=\"keywords\" content=\"aliteracy,books,classic,humor\" itemprop=\"keywords\"/>\n",
      "<a class=\"tag\" href=\"/tag/aliteracy/page/1/\">aliteracy</a>\n",
      "<a class=\"tag\" href=\"/tag/books/page/1/\">books</a>\n",
      "<a class=\"tag\" href=\"/tag/classic/page/1/\">classic</a>\n",
      "<a class=\"tag\" href=\"/tag/humor/page/1/\">humor</a>\n",
      "</div>\n",
      "</div>, <div class=\"quote\" itemscope=\"\" itemtype=\"http://schema.org/CreativeWork\">\n",
      "<span class=\"text\" itemprop=\"text\">“Imperfection is beauty, madness is genius and it's better to be absolutely ridiculous than absolutely boring.”</span>\n",
      "<span>by <small class=\"author\" itemprop=\"author\">Marilyn Monroe</small>\n",
      "<a href=\"/author/Marilyn-Monroe\">(about)</a>\n",
      "</span>\n",
      "<div class=\"tags\">\n",
      "            Tags:\n",
      "            <meta class=\"keywords\" content=\"be-yourself,inspirational\" itemprop=\"keywords\"/>\n",
      "<a class=\"tag\" href=\"/tag/be-yourself/page/1/\">be-yourself</a>\n",
      "<a class=\"tag\" href=\"/tag/inspirational/page/1/\">inspirational</a>\n",
      "</div>\n",
      "</div>, <div class=\"quote\" itemscope=\"\" itemtype=\"http://schema.org/CreativeWork\">\n",
      "<span class=\"text\" itemprop=\"text\">“Try not to become a man of success. Rather become a man of value.”</span>\n",
      "<span>by <small class=\"author\" itemprop=\"author\">Albert Einstein</small>\n",
      "<a href=\"/author/Albert-Einstein\">(about)</a>\n",
      "</span>\n",
      "<div class=\"tags\">\n",
      "            Tags:\n",
      "            <meta class=\"keywords\" content=\"adulthood,success,value\" itemprop=\"keywords\"/>\n",
      "<a class=\"tag\" href=\"/tag/adulthood/page/1/\">adulthood</a>\n",
      "<a class=\"tag\" href=\"/tag/success/page/1/\">success</a>\n",
      "<a class=\"tag\" href=\"/tag/value/page/1/\">value</a>\n",
      "</div>\n",
      "</div>, <div class=\"quote\" itemscope=\"\" itemtype=\"http://schema.org/CreativeWork\">\n",
      "<span class=\"text\" itemprop=\"text\">“It is better to be hated for what you are than to be loved for what you are not.”</span>\n",
      "<span>by <small class=\"author\" itemprop=\"author\">André Gide</small>\n",
      "<a href=\"/author/Andre-Gide\">(about)</a>\n",
      "</span>\n",
      "<div class=\"tags\">\n",
      "            Tags:\n",
      "            <meta class=\"keywords\" content=\"life,love\" itemprop=\"keywords\"/>\n",
      "<a class=\"tag\" href=\"/tag/life/page/1/\">life</a>\n",
      "<a class=\"tag\" href=\"/tag/love/page/1/\">love</a>\n",
      "</div>\n",
      "</div>, <div class=\"quote\" itemscope=\"\" itemtype=\"http://schema.org/CreativeWork\">\n",
      "<span class=\"text\" itemprop=\"text\">“I have not failed. I've just found 10,000 ways that won't work.”</span>\n",
      "<span>by <small class=\"author\" itemprop=\"author\">Thomas A. Edison</small>\n",
      "<a href=\"/author/Thomas-A-Edison\">(about)</a>\n",
      "</span>\n",
      "<div class=\"tags\">\n",
      "            Tags:\n",
      "            <meta class=\"keywords\" content=\"edison,failure,inspirational,paraphrased\" itemprop=\"keywords\"/>\n",
      "<a class=\"tag\" href=\"/tag/edison/page/1/\">edison</a>\n",
      "<a class=\"tag\" href=\"/tag/failure/page/1/\">failure</a>\n",
      "<a class=\"tag\" href=\"/tag/inspirational/page/1/\">inspirational</a>\n",
      "<a class=\"tag\" href=\"/tag/paraphrased/page/1/\">paraphrased</a>\n",
      "</div>\n",
      "</div>, <div class=\"quote\" itemscope=\"\" itemtype=\"http://schema.org/CreativeWork\">\n",
      "<span class=\"text\" itemprop=\"text\">“A woman is like a tea bag; you never know how strong it is until it's in hot water.”</span>\n",
      "<span>by <small class=\"author\" itemprop=\"author\">Eleanor Roosevelt</small>\n",
      "<a href=\"/author/Eleanor-Roosevelt\">(about)</a>\n",
      "</span>\n",
      "<div class=\"tags\">\n",
      "            Tags:\n",
      "            <meta class=\"keywords\" content=\"misattributed-eleanor-roosevelt\" itemprop=\"keywords\"/>\n",
      "<a class=\"tag\" href=\"/tag/misattributed-eleanor-roosevelt/page/1/\">misattributed-eleanor-roosevelt</a>\n",
      "</div>\n",
      "</div>, <div class=\"quote\" itemscope=\"\" itemtype=\"http://schema.org/CreativeWork\">\n",
      "<span class=\"text\" itemprop=\"text\">“A day without sunshine is like, you know, night.”</span>\n",
      "<span>by <small class=\"author\" itemprop=\"author\">Steve Martin</small>\n",
      "<a href=\"/author/Steve-Martin\">(about)</a>\n",
      "</span>\n",
      "<div class=\"tags\">\n",
      "            Tags:\n",
      "            <meta class=\"keywords\" content=\"humor,obvious,simile\" itemprop=\"keywords\"/>\n",
      "<a class=\"tag\" href=\"/tag/humor/page/1/\">humor</a>\n",
      "<a class=\"tag\" href=\"/tag/obvious/page/1/\">obvious</a>\n",
      "<a class=\"tag\" href=\"/tag/simile/page/1/\">simile</a>\n",
      "</div>\n",
      "</div>]\n"
     ]
    }
   ],
   "source": [
    "print(data)"
   ]
  },
  {
   "cell_type": "markdown",
   "id": "c1fa1ccf-9f6f-439d-81d6-34566e908288",
   "metadata": {},
   "source": [
    "The Data we want is -->\n",
    "Quote followed by the Author\n",
    "\n",
    "<span class=\"text\" itemprop=\"text\">“The world as we have created it is a process of our thinking. It cannot be changed without changing our thinking.”</span>\n",
    "<span>by <small class=\"author\" itemprop=\"author\">Albert Einstein</small>\n",
    "<a href=\"/author/Albert-Einstein\">(about)</a></span>"
   ]
  },
  {
   "cell_type": "code",
   "execution_count": 7,
   "id": "e50adb00-699c-426a-95f4-1384b27152bb",
   "metadata": {},
   "outputs": [
    {
     "data": {
      "text/plain": [
       "<div class=\"quote\" itemscope=\"\" itemtype=\"http://schema.org/CreativeWork\">\n",
       "<span class=\"text\" itemprop=\"text\">“A day without sunshine is like, you know, night.”</span>\n",
       "<span>by <small class=\"author\" itemprop=\"author\">Steve Martin</small>\n",
       "<a href=\"/author/Steve-Martin\">(about)</a>\n",
       "</span>\n",
       "<div class=\"tags\">\n",
       "            Tags:\n",
       "            <meta class=\"keywords\" content=\"humor,obvious,simile\" itemprop=\"keywords\"/>\n",
       "<a class=\"tag\" href=\"/tag/humor/page/1/\">humor</a>\n",
       "<a class=\"tag\" href=\"/tag/obvious/page/1/\">obvious</a>\n",
       "<a class=\"tag\" href=\"/tag/simile/page/1/\">simile</a>\n",
       "</div>\n",
       "</div>"
      ]
     },
     "execution_count": 7,
     "metadata": {},
     "output_type": "execute_result"
    }
   ],
   "source": [
    "data[9]"
   ]
  },
  {
   "cell_type": "markdown",
   "id": "1768612a-6d57-4f90-a479-77660e6877f3",
   "metadata": {},
   "source": [
    "##### Performing Slicing"
   ]
  },
  {
   "cell_type": "code",
   "execution_count": 8,
   "id": "d00f3453-7e78-4b8e-8693-18e3e7b10efc",
   "metadata": {},
   "outputs": [
    {
     "data": {
      "text/plain": [
       "<span class=\"text\" itemprop=\"text\">“The world as we have created it is a process of our thinking. It cannot be changed without changing our thinking.”</span>"
      ]
     },
     "execution_count": 8,
     "metadata": {},
     "output_type": "execute_result"
    }
   ],
   "source": [
    "data[0].find(\"span\", class_='text')"
   ]
  },
  {
   "cell_type": "markdown",
   "id": "2f1a33f6-20ba-4490-b51a-7ab68ba18c2d",
   "metadata": {},
   "source": [
    "##### So now we have access the 1st quote"
   ]
  },
  {
   "cell_type": "code",
   "execution_count": 9,
   "id": "05aea56e-ca7b-41e8-b488-88e6cb3e9341",
   "metadata": {},
   "outputs": [
    {
     "data": {
      "text/plain": [
       "'The world as we have created it is a process of our thinking. It cannot be changed without changing our thinking.'"
      ]
     },
     "execution_count": 9,
     "metadata": {},
     "output_type": "execute_result"
    }
   ],
   "source": [
    "data[0].find(\"span\", class_='text').text[1:-1]"
   ]
  },
  {
   "cell_type": "markdown",
   "id": "194b2553-09b5-4f2f-87fe-1195f1d4db1e",
   "metadata": {},
   "source": [
    "Can also Write \n",
    "##### \"data[0].find('small',class_ = 'author').text\" without calss_ as there is only \n",
    "##### one small tag"
   ]
  },
  {
   "cell_type": "code",
   "execution_count": 10,
   "id": "14a00953-3c23-4411-a260-293ea86ab759",
   "metadata": {},
   "outputs": [
    {
     "data": {
      "text/plain": [
       "'Albert Einstein'"
      ]
     },
     "execution_count": 10,
     "metadata": {},
     "output_type": "execute_result"
    }
   ],
   "source": [
    "data[0].find('small', class_ = 'author').text"
   ]
  },
  {
   "cell_type": "markdown",
   "id": "81b69552-a5ef-4194-9f65-1208dd3c578f",
   "metadata": {},
   "source": [
    "use of 'get' insted of 'text'"
   ]
  },
  {
   "cell_type": "code",
   "execution_count": 11,
   "id": "4fc2097c-57b1-4161-b6f9-77af6be27006",
   "metadata": {},
   "outputs": [
    {
     "data": {
      "text/plain": [
       "'/author/Albert-Einstein'"
      ]
     },
     "execution_count": 11,
     "metadata": {},
     "output_type": "execute_result"
    }
   ],
   "source": [
    "data[0].find('a').get('href')"
   ]
  },
  {
   "cell_type": "markdown",
   "id": "f26e45fd-0ece-4e72-b7f6-b7fd86b9d4ec",
   "metadata": {},
   "source": [
    "##### Now extracting the Tags"
   ]
  },
  {
   "cell_type": "code",
   "execution_count": 12,
   "id": "564bd78d-06eb-4fe3-b979-7f452901e421",
   "metadata": {},
   "outputs": [
    {
     "data": {
      "text/plain": [
       "[<a class=\"tag\" href=\"/tag/change/page/1/\">change</a>,\n",
       " <a class=\"tag\" href=\"/tag/deep-thoughts/page/1/\">deep-thoughts</a>,\n",
       " <a class=\"tag\" href=\"/tag/thinking/page/1/\">thinking</a>,\n",
       " <a class=\"tag\" href=\"/tag/world/page/1/\">world</a>]"
      ]
     },
     "execution_count": 12,
     "metadata": {},
     "output_type": "execute_result"
    }
   ],
   "source": [
    "data[0].find_all('a', class_ = 'tag')"
   ]
  },
  {
   "cell_type": "code",
   "execution_count": 14,
   "id": "ca525573-0027-441d-acbc-31615138a1a7",
   "metadata": {},
   "outputs": [
    {
     "name": "stdout",
     "output_type": "stream",
     "text": [
      "humor\n",
      "obvious\n",
      "simile\n"
     ]
    }
   ],
   "source": [
    "for j in data[9].find_all('a', class_ = 'tag'):\n",
    "    #tag.append(j.text)\n",
    "    print(j.text)"
   ]
  },
  {
   "cell_type": "markdown",
   "id": "48070a3a-5fe3-457d-be7e-61dfd7426744",
   "metadata": {},
   "source": [
    "#### Applying the above techniques"
   ]
  },
  {
   "cell_type": "code",
   "execution_count": 17,
   "id": "1a880606-933e-442c-93ac-f0ff20013c1f",
   "metadata": {},
   "outputs": [],
   "source": [
    "scrap_data = []\n",
    "for i in data:\n",
    "    #print(i,\"\\n\")\n",
    "    quote = i.find('span', class_ = 'text').text\n",
    "    author = i.find('small').text\n",
    "    about = f\"https://quotes.toscrape.com{i.find('a').get('href')}\"\n",
    "    tag = []\n",
    "    for j in i.find_all('a', class_ = 'tag'):\n",
    "        tag.append(j.text)\n",
    "    tag = ','.join(tag)\n",
    "    \n",
    "    scrap_data.append([quote,author,about,tag])"
   ]
  },
  {
   "cell_type": "code",
   "execution_count": 18,
   "id": "89c1ba28-dc3a-490e-b0eb-fc73715875be",
   "metadata": {},
   "outputs": [
    {
     "data": {
      "text/plain": [
       "[['“The world as we have created it is a process of our thinking. It cannot be changed without changing our thinking.”',\n",
       "  'Albert Einstein',\n",
       "  'https://quotes.toscrape.com/author/Albert-Einstein',\n",
       "  'change,deep-thoughts,thinking,world'],\n",
       " ['“It is our choices, Harry, that show what we truly are, far more than our abilities.”',\n",
       "  'J.K. Rowling',\n",
       "  'https://quotes.toscrape.com/author/J-K-Rowling',\n",
       "  'abilities,choices'],\n",
       " ['“There are only two ways to live your life. One is as though nothing is a miracle. The other is as though everything is a miracle.”',\n",
       "  'Albert Einstein',\n",
       "  'https://quotes.toscrape.com/author/Albert-Einstein',\n",
       "  'inspirational,life,live,miracle,miracles'],\n",
       " ['“The person, be it gentleman or lady, who has not pleasure in a good novel, must be intolerably stupid.”',\n",
       "  'Jane Austen',\n",
       "  'https://quotes.toscrape.com/author/Jane-Austen',\n",
       "  'aliteracy,books,classic,humor'],\n",
       " [\"“Imperfection is beauty, madness is genius and it's better to be absolutely ridiculous than absolutely boring.”\",\n",
       "  'Marilyn Monroe',\n",
       "  'https://quotes.toscrape.com/author/Marilyn-Monroe',\n",
       "  'be-yourself,inspirational'],\n",
       " ['“Try not to become a man of success. Rather become a man of value.”',\n",
       "  'Albert Einstein',\n",
       "  'https://quotes.toscrape.com/author/Albert-Einstein',\n",
       "  'adulthood,success,value'],\n",
       " ['“It is better to be hated for what you are than to be loved for what you are not.”',\n",
       "  'André Gide',\n",
       "  'https://quotes.toscrape.com/author/Andre-Gide',\n",
       "  'life,love'],\n",
       " [\"“I have not failed. I've just found 10,000 ways that won't work.”\",\n",
       "  'Thomas A. Edison',\n",
       "  'https://quotes.toscrape.com/author/Thomas-A-Edison',\n",
       "  'edison,failure,inspirational,paraphrased'],\n",
       " [\"“A woman is like a tea bag; you never know how strong it is until it's in hot water.”\",\n",
       "  'Eleanor Roosevelt',\n",
       "  'https://quotes.toscrape.com/author/Eleanor-Roosevelt',\n",
       "  'misattributed-eleanor-roosevelt'],\n",
       " ['“A day without sunshine is like, you know, night.”',\n",
       "  'Steve Martin',\n",
       "  'https://quotes.toscrape.com/author/Steve-Martin',\n",
       "  'humor,obvious,simile']]"
      ]
     },
     "execution_count": 18,
     "metadata": {},
     "output_type": "execute_result"
    }
   ],
   "source": [
    "scrap_data"
   ]
  },
  {
   "cell_type": "markdown",
   "id": "f08bb8f7-c19d-49b3-ab23-cc1b2a33d7f5",
   "metadata": {},
   "source": [
    "#### Creating a data frame to store the data"
   ]
  },
  {
   "cell_type": "code",
   "execution_count": 19,
   "id": "0ab8e606-0137-4646-bcaa-991744c514f5",
   "metadata": {},
   "outputs": [],
   "source": [
    "import pandas as pd"
   ]
  },
  {
   "cell_type": "code",
   "execution_count": 30,
   "id": "98b9a0b9-afa2-431e-ab3a-0a30a6166865",
   "metadata": {},
   "outputs": [],
   "source": [
    "data_frame = pd.DataFrame(scrap_data, columns = ['Quote','Author','About Link','Tags'], index = None)"
   ]
  },
  {
   "cell_type": "code",
   "execution_count": 31,
   "id": "d31fa4aa-217c-4da8-9391-4ccccd21b3a6",
   "metadata": {},
   "outputs": [
    {
     "data": {
      "text/html": [
       "<div>\n",
       "<style scoped>\n",
       "    .dataframe tbody tr th:only-of-type {\n",
       "        vertical-align: middle;\n",
       "    }\n",
       "\n",
       "    .dataframe tbody tr th {\n",
       "        vertical-align: top;\n",
       "    }\n",
       "\n",
       "    .dataframe thead th {\n",
       "        text-align: right;\n",
       "    }\n",
       "</style>\n",
       "<table border=\"1\" class=\"dataframe\">\n",
       "  <thead>\n",
       "    <tr style=\"text-align: right;\">\n",
       "      <th></th>\n",
       "      <th>Quote</th>\n",
       "      <th>Author</th>\n",
       "      <th>About Link</th>\n",
       "      <th>Tags</th>\n",
       "    </tr>\n",
       "  </thead>\n",
       "  <tbody>\n",
       "    <tr>\n",
       "      <th>0</th>\n",
       "      <td>“The world as we have created it is a process ...</td>\n",
       "      <td>Albert Einstein</td>\n",
       "      <td>https://quotes.toscrape.com/author/Albert-Eins...</td>\n",
       "      <td>change,deep-thoughts,thinking,world</td>\n",
       "    </tr>\n",
       "    <tr>\n",
       "      <th>1</th>\n",
       "      <td>“It is our choices, Harry, that show what we t...</td>\n",
       "      <td>J.K. Rowling</td>\n",
       "      <td>https://quotes.toscrape.com/author/J-K-Rowling</td>\n",
       "      <td>abilities,choices</td>\n",
       "    </tr>\n",
       "    <tr>\n",
       "      <th>2</th>\n",
       "      <td>“There are only two ways to live your life. On...</td>\n",
       "      <td>Albert Einstein</td>\n",
       "      <td>https://quotes.toscrape.com/author/Albert-Eins...</td>\n",
       "      <td>inspirational,life,live,miracle,miracles</td>\n",
       "    </tr>\n",
       "    <tr>\n",
       "      <th>3</th>\n",
       "      <td>“The person, be it gentleman or lady, who has ...</td>\n",
       "      <td>Jane Austen</td>\n",
       "      <td>https://quotes.toscrape.com/author/Jane-Austen</td>\n",
       "      <td>aliteracy,books,classic,humor</td>\n",
       "    </tr>\n",
       "    <tr>\n",
       "      <th>4</th>\n",
       "      <td>“Imperfection is beauty, madness is genius and...</td>\n",
       "      <td>Marilyn Monroe</td>\n",
       "      <td>https://quotes.toscrape.com/author/Marilyn-Monroe</td>\n",
       "      <td>be-yourself,inspirational</td>\n",
       "    </tr>\n",
       "    <tr>\n",
       "      <th>5</th>\n",
       "      <td>“Try not to become a man of success. Rather be...</td>\n",
       "      <td>Albert Einstein</td>\n",
       "      <td>https://quotes.toscrape.com/author/Albert-Eins...</td>\n",
       "      <td>adulthood,success,value</td>\n",
       "    </tr>\n",
       "    <tr>\n",
       "      <th>6</th>\n",
       "      <td>“It is better to be hated for what you are tha...</td>\n",
       "      <td>André Gide</td>\n",
       "      <td>https://quotes.toscrape.com/author/Andre-Gide</td>\n",
       "      <td>life,love</td>\n",
       "    </tr>\n",
       "    <tr>\n",
       "      <th>7</th>\n",
       "      <td>“I have not failed. I've just found 10,000 way...</td>\n",
       "      <td>Thomas A. Edison</td>\n",
       "      <td>https://quotes.toscrape.com/author/Thomas-A-Ed...</td>\n",
       "      <td>edison,failure,inspirational,paraphrased</td>\n",
       "    </tr>\n",
       "    <tr>\n",
       "      <th>8</th>\n",
       "      <td>“A woman is like a tea bag; you never know how...</td>\n",
       "      <td>Eleanor Roosevelt</td>\n",
       "      <td>https://quotes.toscrape.com/author/Eleanor-Roo...</td>\n",
       "      <td>misattributed-eleanor-roosevelt</td>\n",
       "    </tr>\n",
       "    <tr>\n",
       "      <th>9</th>\n",
       "      <td>“A day without sunshine is like, you know, nig...</td>\n",
       "      <td>Steve Martin</td>\n",
       "      <td>https://quotes.toscrape.com/author/Steve-Martin</td>\n",
       "      <td>humor,obvious,simile</td>\n",
       "    </tr>\n",
       "  </tbody>\n",
       "</table>\n",
       "</div>"
      ],
      "text/plain": [
       "                                               Quote             Author  \\\n",
       "0  “The world as we have created it is a process ...    Albert Einstein   \n",
       "1  “It is our choices, Harry, that show what we t...       J.K. Rowling   \n",
       "2  “There are only two ways to live your life. On...    Albert Einstein   \n",
       "3  “The person, be it gentleman or lady, who has ...        Jane Austen   \n",
       "4  “Imperfection is beauty, madness is genius and...     Marilyn Monroe   \n",
       "5  “Try not to become a man of success. Rather be...    Albert Einstein   \n",
       "6  “It is better to be hated for what you are tha...         André Gide   \n",
       "7  “I have not failed. I've just found 10,000 way...   Thomas A. Edison   \n",
       "8  “A woman is like a tea bag; you never know how...  Eleanor Roosevelt   \n",
       "9  “A day without sunshine is like, you know, nig...       Steve Martin   \n",
       "\n",
       "                                          About Link  \\\n",
       "0  https://quotes.toscrape.com/author/Albert-Eins...   \n",
       "1     https://quotes.toscrape.com/author/J-K-Rowling   \n",
       "2  https://quotes.toscrape.com/author/Albert-Eins...   \n",
       "3     https://quotes.toscrape.com/author/Jane-Austen   \n",
       "4  https://quotes.toscrape.com/author/Marilyn-Monroe   \n",
       "5  https://quotes.toscrape.com/author/Albert-Eins...   \n",
       "6      https://quotes.toscrape.com/author/Andre-Gide   \n",
       "7  https://quotes.toscrape.com/author/Thomas-A-Ed...   \n",
       "8  https://quotes.toscrape.com/author/Eleanor-Roo...   \n",
       "9    https://quotes.toscrape.com/author/Steve-Martin   \n",
       "\n",
       "                                       Tags  \n",
       "0       change,deep-thoughts,thinking,world  \n",
       "1                         abilities,choices  \n",
       "2  inspirational,life,live,miracle,miracles  \n",
       "3             aliteracy,books,classic,humor  \n",
       "4                 be-yourself,inspirational  \n",
       "5                   adulthood,success,value  \n",
       "6                                 life,love  \n",
       "7  edison,failure,inspirational,paraphrased  \n",
       "8           misattributed-eleanor-roosevelt  \n",
       "9                      humor,obvious,simile  "
      ]
     },
     "execution_count": 31,
     "metadata": {},
     "output_type": "execute_result"
    }
   ],
   "source": [
    "data_frame"
   ]
  },
  {
   "cell_type": "markdown",
   "id": "2c82abb6-0419-4baa-bb50-99a27273f053",
   "metadata": {},
   "source": [
    "#### Saving the data in CSV"
   ]
  },
  {
   "cell_type": "code",
   "execution_count": 32,
   "id": "6a8e8a09-f712-4ab2-b12b-98aec8c8e952",
   "metadata": {},
   "outputs": [],
   "source": [
    "data_frame.to_csv(\"Quote Scraping.csv\", index = False)"
   ]
  },
  {
   "cell_type": "markdown",
   "id": "84b577a6-6e0a-460c-9eaf-5214f11d9f74",
   "metadata": {},
   "source": [
    "### Moltiple Pages of Data"
   ]
  },
  {
   "cell_type": "code",
   "execution_count": 48,
   "id": "aa0ade20-2c5c-430f-bcee-c78442ee5dad",
   "metadata": {},
   "outputs": [
    {
     "name": "stdout",
     "output_type": "stream",
     "text": [
      "Collecting tqdm\n",
      "  Downloading tqdm-4.66.4-py3-none-any.whl.metadata (57 kB)\n",
      "     ---------------------------------------- 0.0/57.6 kB ? eta -:--:--\n",
      "     -------------------- ----------------- 30.7/57.6 kB 640.0 kB/s eta 0:00:01\n",
      "     -------------------------------------- 57.6/57.6 kB 598.9 kB/s eta 0:00:00\n",
      "Requirement already satisfied: colorama in d:\\eda\\.venv\\lib\\site-packages (from tqdm) (0.4.6)\n",
      "Downloading tqdm-4.66.4-py3-none-any.whl (78 kB)\n",
      "   ---------------------------------------- 0.0/78.3 kB ? eta -:--:--\n",
      "   ---------------------------------------- 78.3/78.3 kB 4.3 MB/s eta 0:00:00\n",
      "Installing collected packages: tqdm\n",
      "Successfully installed tqdm-4.66.4\n",
      "Note: you may need to restart the kernel to use updated packages.\n"
     ]
    }
   ],
   "source": [
    "pip install tqdm"
   ]
  },
  {
   "cell_type": "code",
   "execution_count": 49,
   "id": "5bdc459e-ebb5-4718-8e53-0921ef1aaa42",
   "metadata": {},
   "outputs": [],
   "source": [
    "from tqdm import tqdm "
   ]
  },
  {
   "cell_type": "code",
   "execution_count": 58,
   "id": "bd82326b-5ea7-45e2-a3f4-0372292043ba",
   "metadata": {},
   "outputs": [
    {
     "name": "stderr",
     "output_type": "stream",
     "text": [
      "100%|███████████████████████████████████████████████████████████████████████████████████████████████████████████████████████████| 10/10 [00:09<00:00,  1.03it/s]\n"
     ]
    }
   ],
   "source": [
    "scrap_data = []\n",
    "for page in tqdm(range(1,11)):\n",
    "    req = requests.get(f'https://quotes.toscrape.com/page/{page}/')\n",
    "    soup = bs(req.text, 'html.parser')\n",
    "\n",
    "    for i in soup.find_all('div', class_ = 'quote'):\n",
    "        quote = i.find('span', class_ = 'text').text\n",
    "        author = i.find('small').text\n",
    "        about = f\"https://quotes.toscrape.com{i.find('a').get('href')}\"\n",
    "        tag = []\n",
    "        for j in i.find_all('a', class_ = 'tag'):\n",
    "            tag.append(j.text)\n",
    "        tag = ','.join(tag)\n",
    "        scrap_data.append([quote,author,about,tag])"
   ]
  },
  {
   "cell_type": "code",
   "execution_count": 59,
   "id": "d1c4a334-c9af-4f61-aef8-28105cc947bb",
   "metadata": {},
   "outputs": [
    {
     "data": {
      "text/plain": [
       "100"
      ]
     },
     "execution_count": 59,
     "metadata": {},
     "output_type": "execute_result"
    }
   ],
   "source": [
    "len(scrap_data)"
   ]
  },
  {
   "cell_type": "code",
   "execution_count": 60,
   "id": "f3834c2a-ea00-4668-b53d-3b43679b9f8b",
   "metadata": {},
   "outputs": [],
   "source": [
    "data_frame = pd.DataFrame(scrap_data, columns = ['quote','author','about','tag'])"
   ]
  },
  {
   "cell_type": "code",
   "execution_count": 61,
   "id": "9b771ea3-64e5-4248-a3c5-e3bcc7de16cc",
   "metadata": {},
   "outputs": [],
   "source": [
    "data_frame.to_csv(\"Automated_Scraping.csv\",index = False)"
   ]
  },
  {
   "cell_type": "code",
   "execution_count": null,
   "id": "60adc9f3-e8ae-455c-a1dd-477020eec7d9",
   "metadata": {},
   "outputs": [],
   "source": []
  }
 ],
 "metadata": {
  "kernelspec": {
   "display_name": "Python 3 (ipykernel)",
   "language": "python",
   "name": "python3"
  },
  "language_info": {
   "codemirror_mode": {
    "name": "ipython",
    "version": 3
   },
   "file_extension": ".py",
   "mimetype": "text/x-python",
   "name": "python",
   "nbconvert_exporter": "python",
   "pygments_lexer": "ipython3",
   "version": "3.9.13"
  }
 },
 "nbformat": 4,
 "nbformat_minor": 5
}
